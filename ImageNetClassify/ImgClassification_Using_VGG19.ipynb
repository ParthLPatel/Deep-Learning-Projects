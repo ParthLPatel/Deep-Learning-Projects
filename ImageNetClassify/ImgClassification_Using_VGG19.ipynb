{
  "nbformat": 4,
  "nbformat_minor": 0,
  "metadata": {
    "colab": {
      "name": "ImgClassification-Using-VGG19.ipynb",
      "provenance": []
    },
    "kernelspec": {
      "name": "python3",
      "display_name": "Python 3"
    }
  },
  "cells": [
    {
      "cell_type": "markdown",
      "metadata": {
        "id": "ZZ0m7zA0VT0y"
      },
      "source": [
        "# Create Deep Learning Project From End to End till Deployment.\r\n",
        "\r\n",
        "1. Create a Vgg19 Model for classifying imagenet images.\r\n",
        "2. Will Create a Flask App to upload the image(Simple Html)\r\n",
        "3. Predict from the Flask App with the images that we upload."
      ]
    },
    {
      "cell_type": "code",
      "metadata": {
        "id": "sPY3Ib7iVORC"
      },
      "source": [
        "from tensorflow.keras.applications.vgg19 import VGG19"
      ],
      "execution_count": 1,
      "outputs": []
    },
    {
      "cell_type": "code",
      "metadata": {
        "colab": {
          "base_uri": "https://localhost:8080/"
        },
        "id": "jSm12tUvWDVj",
        "outputId": "47b78b86-b641-4a92-fd9b-83f46a78e2c8"
      },
      "source": [
        "model = VGG19(weights='imagenet')"
      ],
      "execution_count": 2,
      "outputs": [
        {
          "output_type": "stream",
          "text": [
            "Downloading data from https://storage.googleapis.com/tensorflow/keras-applications/vgg19/vgg19_weights_tf_dim_ordering_tf_kernels.h5\n",
            "574717952/574710816 [==============================] - 4s 0us/step\n"
          ],
          "name": "stdout"
        }
      ]
    },
    {
      "cell_type": "code",
      "metadata": {
        "id": "7c-XOclOWOxQ"
      },
      "source": [
        "model.summary()"
      ],
      "execution_count": null,
      "outputs": []
    },
    {
      "cell_type": "code",
      "metadata": {
        "id": "6wHBfA6iWZHQ"
      },
      "source": [
        "model.save('vgg19.h5')"
      ],
      "execution_count": 4,
      "outputs": []
    }
  ]
}